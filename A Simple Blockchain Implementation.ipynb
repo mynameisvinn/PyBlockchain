{
 "cells": [
  {
   "cell_type": "markdown",
   "metadata": {},
   "source": [
    "## reference\n",
    "* https://medium.com/@lhartikk/a-blockchain-in-200-lines-of-code-963cc1cc0e54#.f2isajv22\n",
    "* blockchain for authentication http://www.talkcrypto.org/blog/portfolio/digital-signatures-and-the-blockchain/"
   ]
  },
  {
   "cell_type": "markdown",
   "metadata": {},
   "source": [
    "## todo\n",
    "\n",
    "* broadcast updates to blockchain?"
   ]
  },
  {
   "cell_type": "code",
   "execution_count": 4,
   "metadata": {
    "collapsed": true
   },
   "outputs": [],
   "source": [
    "from PyBlockchain import Miner, Node, Block, Blockchain"
   ]
  },
  {
   "cell_type": "markdown",
   "metadata": {},
   "source": [
    "# Creating the Blockchain\n",
    "\n",
    "we initialize the blockchain (\"ledger\") with the genesis block. \n",
    "\n",
    "for our toy example, our ledger will be a python list containing Block objects."
   ]
  },
  {
   "cell_type": "code",
   "execution_count": 5,
   "metadata": {},
   "outputs": [
    {
     "name": "stdout",
     "output_type": "stream",
     "text": [
      ">>> block index: 0\n",
      ">>> previous hash: none\n",
      ">>> current hash: hello\n",
      ">>> transaction: laura pays $1 to steve\n"
     ]
    }
   ],
   "source": [
    "genesis_block = Block(0, \"none\", 'laura pays $1 to steve', 'hello')\n",
    "genesis_block.show()"
   ]
  },
  {
   "cell_type": "code",
   "execution_count": 6,
   "metadata": {
    "collapsed": true
   },
   "outputs": [],
   "source": [
    "ledger = Blockchain(genesis_block)"
   ]
  },
  {
   "cell_type": "markdown",
   "metadata": {},
   "source": [
    "## step 1: creating blocks\n",
    "nodes create a new Block for every new transaction/record."
   ]
  },
  {
   "cell_type": "code",
   "execution_count": 7,
   "metadata": {},
   "outputs": [],
   "source": [
    "Node_Alice = Node(ledger)\n",
    "Node_Bob = Node(ledger)"
   ]
  },
  {
   "cell_type": "code",
   "execution_count": 8,
   "metadata": {},
   "outputs": [
    {
     "name": "stdout",
     "output_type": "stream",
     "text": [
      ">>> block index: 1\n",
      ">>> previous hash: hello\n",
      ">>> current hash: -- placeholder hash --\n",
      ">>> transaction: steve pays $2 to michelle\n"
     ]
    }
   ],
   "source": [
    "block1 = Node_Alice.generate_new_block('steve pays $2 to michelle')\n",
    "block1.show()"
   ]
  },
  {
   "cell_type": "markdown",
   "metadata": {},
   "source": [
    "## step 2: attempt to add new block to the ledger\n",
    "\n",
    "a new Block cannot be added to the blockchain until its hash demonstrates **proof of work**. \n",
    "\n",
    "in our toy example, an acceptable hash is one where h(previous hash + transaction) starts with the character \"c\". h(x) in this case is sha1 hash function.\n",
    "\n",
    "for example, sha1(\"hello World11\") is 'cc8e9d1fbe83d1ce4b1bf546ebff3b735e4ff500'. since this hash output starts with the character \"c\", it will be considered to be a valid **proof of work** and thus its associated Block can be added to the ledger.\n",
    "\n",
    "in practice, an acceptable hash, usually sha256, must start with three zeros (eg \"000abfds...\"). "
   ]
  },
  {
   "cell_type": "code",
   "execution_count": 9,
   "metadata": {},
   "outputs": [
    {
     "name": "stdout",
     "output_type": "stream",
     "text": [
      ">>> checking index... True\n",
      ">>> checking hash sequence... True\n",
      ">>> checking hash validity... False\n",
      ">>> update failed\n"
     ]
    },
    {
     "data": {
      "text/plain": [
       "False"
      ]
     },
     "execution_count": 9,
     "metadata": {},
     "output_type": "execute_result"
    }
   ],
   "source": [
    "# can new block be added to blockchain?\n",
    "Node_Alice.update_blockchain(block1)"
   ]
  },
  {
   "cell_type": "markdown",
   "metadata": {},
   "source": [
    "## step 3: miners demonstrate proof of work\n",
    "through brute force, miners find the correct hash that satisfies conditions. once the correct hash is identified, it will be assigned to that block, thereby enabling addition to the ledger."
   ]
  },
  {
   "cell_type": "code",
   "execution_count": 10,
   "metadata": {},
   "outputs": [],
   "source": [
    "Miner_Adam = Miner()"
   ]
  },
  {
   "cell_type": "code",
   "execution_count": 11,
   "metadata": {},
   "outputs": [
    {
     "name": "stdout",
     "output_type": "stream",
     "text": [
      "acceptable hash: 111111111111111111111111111111111111111111111111111111111111111111111\n"
     ]
    }
   ],
   "source": [
    "good_hash = Miner_Adam.calc_hash_seal(block1)\n",
    "print \"acceptable hash:\", good_hash"
   ]
  },
  {
   "cell_type": "code",
   "execution_count": 12,
   "metadata": {},
   "outputs": [],
   "source": [
    "# miner updates the block with the hash\n",
    "Miner_Adam.update_hash(block1, good_hash)"
   ]
  },
  {
   "cell_type": "code",
   "execution_count": 13,
   "metadata": {},
   "outputs": [
    {
     "name": "stdout",
     "output_type": "stream",
     "text": [
      ">>> checking index... True\n",
      ">>> checking hash sequence... True\n",
      ">>> checking hash validity... True\n",
      ">>> successfully updated blockchain...\n"
     ]
    },
    {
     "data": {
      "text/plain": [
       "True"
      ]
     },
     "execution_count": 13,
     "metadata": {},
     "output_type": "execute_result"
    }
   ],
   "source": [
    "# with the new hash, verify new block can be added to blockchain\n",
    "Node_Alice.update_blockchain(block1)"
   ]
  },
  {
   "cell_type": "markdown",
   "metadata": {},
   "source": [
    "# simulate another transaction"
   ]
  },
  {
   "cell_type": "code",
   "execution_count": 14,
   "metadata": {},
   "outputs": [
    {
     "name": "stdout",
     "output_type": "stream",
     "text": [
      ">>> block index: 2\n",
      ">>> previous hash: 111111111111111111111111111111111111111111111111111111111111111111111\n",
      ">>> current hash: -- placeholder hash --\n",
      ">>> transaction: michelle pays $1 to joanna\n"
     ]
    }
   ],
   "source": [
    "block2 = Node_Alice.generate_new_block('michelle pays $1 to joanna')\n",
    "block2.show()"
   ]
  },
  {
   "cell_type": "code",
   "execution_count": 15,
   "metadata": {},
   "outputs": [
    {
     "name": "stdout",
     "output_type": "stream",
     "text": [
      ">>> checking index... True\n",
      ">>> checking hash sequence... True\n",
      ">>> checking hash validity... False\n"
     ]
    },
    {
     "data": {
      "text/plain": [
       "False"
      ]
     },
     "execution_count": 15,
     "metadata": {},
     "output_type": "execute_result"
    }
   ],
   "source": [
    "Node_Alice.check_block(block2)  # verify new block can be added to blockchain"
   ]
  },
  {
   "cell_type": "code",
   "execution_count": 16,
   "metadata": {},
   "outputs": [
    {
     "name": "stdout",
     "output_type": "stream",
     "text": [
      "good_hash: 11111111111\n"
     ]
    }
   ],
   "source": [
    "good_hash = Miner_Adam.calc_hash_seal(block2)\n",
    "print \"good_hash:\", good_hash"
   ]
  },
  {
   "cell_type": "code",
   "execution_count": 17,
   "metadata": {},
   "outputs": [],
   "source": [
    "# since we've found the seal, we can update the block, thus approving it for blockchain addition\n",
    "Miner_Adam.update_hash(block2, good_hash)"
   ]
  },
  {
   "cell_type": "code",
   "execution_count": 18,
   "metadata": {},
   "outputs": [
    {
     "name": "stdout",
     "output_type": "stream",
     "text": [
      ">>> checking index... True\n",
      ">>> checking hash sequence... True\n",
      ">>> checking hash validity... True\n"
     ]
    },
    {
     "data": {
      "text/plain": [
       "True"
      ]
     },
     "execution_count": 18,
     "metadata": {},
     "output_type": "execute_result"
    }
   ],
   "source": [
    "Node_Alice.check_block(block2)  # verify new block can be added to blockchain"
   ]
  },
  {
   "cell_type": "code",
   "execution_count": 19,
   "metadata": {},
   "outputs": [
    {
     "name": "stdout",
     "output_type": "stream",
     "text": [
      ">>> checking index... True\n",
      ">>> checking hash sequence... True\n",
      ">>> checking hash validity... True\n",
      ">>> successfully updated blockchain...\n"
     ]
    },
    {
     "data": {
      "text/plain": [
       "True"
      ]
     },
     "execution_count": 19,
     "metadata": {},
     "output_type": "execute_result"
    }
   ],
   "source": [
    "# with the new hash, verify new block can be added to blockchain\n",
    "Node_Alice.update_blockchain(block2)"
   ]
  },
  {
   "cell_type": "code",
   "execution_count": 20,
   "metadata": {},
   "outputs": [
    {
     "name": "stdout",
     "output_type": "stream",
     "text": [
      "transaction 0 : laura pays $1 to steve\n",
      "transaction 1 : steve pays $2 to michelle\n",
      "transaction 2 : michelle pays $1 to joanna\n"
     ]
    }
   ],
   "source": [
    "# examine history\n",
    "for blocks in Node_Alice.blockchain_copy.blockchain:\n",
    "    print blocks.fetch_transaction()"
   ]
  },
  {
   "cell_type": "code",
   "execution_count": 21,
   "metadata": {},
   "outputs": [
    {
     "name": "stdout",
     "output_type": "stream",
     "text": [
      "hash signatures match?"
     ]
    },
    {
     "data": {
      "text/plain": [
       "True"
      ]
     },
     "execution_count": 21,
     "metadata": {},
     "output_type": "execute_result"
    },
    {
     "name": "stdout",
     "output_type": "stream",
     "text": [
      "\n"
     ]
    }
   ],
   "source": [
    "# see if record 2 is valid\n",
    "print \"hash signatures match?\", \n",
    "Node_Alice.blockchain_copy.blockchain[1].curr_hash == Miner.calc_hash_seal(Node_Alice.blockchain_copy.blockchain[1])"
   ]
  },
  {
   "cell_type": "markdown",
   "metadata": {
    "collapsed": true
   },
   "source": [
    "# what is record 1 was altered?"
   ]
  },
  {
   "cell_type": "code",
   "execution_count": 22,
   "metadata": {},
   "outputs": [
    {
     "name": "stdout",
     "output_type": "stream",
     "text": [
      "transaction 0 : laura pays $1 to steve\n",
      "transaction 1 : steve pays $2 to michelle\n",
      "transaction 2 : michelle pays $1 to joanna\n"
     ]
    }
   ],
   "source": [
    "# examine history\n",
    "for blocks in Node_Alice.blockchain_copy.blockchain:\n",
    "    print blocks.fetch_transaction()"
   ]
  },
  {
   "cell_type": "code",
   "execution_count": 23,
   "metadata": {},
   "outputs": [],
   "source": [
    "Node_Alice.blockchain_copy.blockchain[1].data = \"dummy data\""
   ]
  },
  {
   "cell_type": "code",
   "execution_count": 24,
   "metadata": {},
   "outputs": [
    {
     "name": "stdout",
     "output_type": "stream",
     "text": [
      "transaction 0 : laura pays $1 to steve\n",
      "transaction 1 : dummy data\n",
      "transaction 2 : michelle pays $1 to joanna\n"
     ]
    }
   ],
   "source": [
    "# examine history\n",
    "for blocks in Node_Alice.blockchain_copy.blockchain:\n",
    "    print blocks.fetch_transaction()"
   ]
  },
  {
   "cell_type": "code",
   "execution_count": 25,
   "metadata": {},
   "outputs": [
    {
     "name": "stdout",
     "output_type": "stream",
     "text": [
      "hash signatures match?"
     ]
    },
    {
     "data": {
      "text/plain": [
       "False"
      ]
     },
     "execution_count": 25,
     "metadata": {},
     "output_type": "execute_result"
    },
    {
     "name": "stdout",
     "output_type": "stream",
     "text": [
      "\n"
     ]
    }
   ],
   "source": [
    "# see if record 2 is valid\n",
    "print \"hash signatures match?\", \n",
    "Node_Alice.blockchain_copy.blockchain[1].curr_hash == Miner.calc_hash_seal(Node_Alice.blockchain_copy.blockchain[1])"
   ]
  },
  {
   "cell_type": "code",
   "execution_count": null,
   "metadata": {
    "collapsed": true
   },
   "outputs": [],
   "source": []
  }
 ],
 "metadata": {
  "kernelspec": {
   "display_name": "Python 2",
   "language": "python",
   "name": "python2"
  },
  "language_info": {
   "codemirror_mode": {
    "name": "ipython",
    "version": 2
   },
   "file_extension": ".py",
   "mimetype": "text/x-python",
   "name": "python",
   "nbconvert_exporter": "python",
   "pygments_lexer": "ipython2",
   "version": "2.7.13"
  }
 },
 "nbformat": 4,
 "nbformat_minor": 1
}
