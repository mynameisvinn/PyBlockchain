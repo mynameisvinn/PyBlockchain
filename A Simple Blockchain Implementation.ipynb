{
 "cells": [
  {
   "cell_type": "markdown",
   "metadata": {},
   "source": [
    "3/5/17 (played poker at angelas place; really thinking about egg freezing for bay now that we're 33 years old; lurm is back from korea and doesnt seem to be with james anymore; broder got a new job at google - it's nice to see him out of pantheon; lurm starts squarespace tomorrow; reviewing blockchains for fun)\n",
    "\n",
    "3/11/17 (walked in central park with yule/andy in 20 degree weather; bay is sleeping next to me - we need to talk more in our marriage; hoping to close stae in the coming weeks; nyc board meetings killed vrb; lurm is in sxsw; bolbs quit pantheon and is heading to thailand for edisons wedding; tried out beef patties from my little pizzeria; spending time on blockchains bc trying to understand sovereign identity)\n",
    "\n",
    "5/26/17 (went for a loop w bay on the promenade; smart cities dinner last night it was fun bc people were young and unpretentious; lurmie going to see jerry the bear this memorial day weekend - it's good she has friends; momo has been texting me nonstop with random things; in a bit of a rut hopefully not working this weekend will make things better; tiff/ed got engaged this tues - the engagement dinner was a bit awkward; jaemin the intern started this week - hes so likeable; reviewing sockets bc i know nothing about networking; reviewing pca versus autoencoders after coming across https://danluu.com/linear-hammer/; rented shaun of the dead; memorial day weekend and will be lazy with my bay the entire weekend; bought bose headphones for bolbs because he bought me $300 wallet - i miss my brother; sands st board interview tomorrow; working out of a/d/o in greenpoint, such a nice atmosphere with good lighting)\n",
    "\n",
    "6/30/17 (finally pushed cylera over the finish line - found out gus is a fighter; emily will probably be reassigned; shed is out; bolbs will be here this weekend by himself - does this mean there is problem with laura; bay is exhausted and had to take a mental day; sands st apt closed; momo says she wants to retire)\n",
    "\n",
    "## reference\n",
    "* https://medium.com/@lhartikk/a-blockchain-in-200-lines-of-code-963cc1cc0e54#.f2isajv22\n",
    "* blockchain for authentication http://www.talkcrypto.org/blog/portfolio/digital-signatures-and-the-blockchain/"
   ]
  },
  {
   "cell_type": "markdown",
   "metadata": {},
   "source": [
    "## todo\n",
    "\n",
    "* broadcast updates to blockchain?"
   ]
  },
  {
   "cell_type": "code",
   "execution_count": 3,
   "metadata": {
    "collapsed": false
   },
   "outputs": [],
   "source": [
    "from miner import Miner\n",
    "from node import Node\n",
    "from block import Block"
   ]
  },
  {
   "cell_type": "markdown",
   "metadata": {},
   "source": [
    "# Creating the Blockchain\n",
    "\n",
    "we initialize the blockchain (\"ledger\") with the genesis block. \n",
    "\n",
    "for our toy example, our ledger will be a python list containing Block objects."
   ]
  },
  {
   "cell_type": "code",
   "execution_count": 4,
   "metadata": {
    "collapsed": false
   },
   "outputs": [
    {
     "name": "stdout",
     "output_type": "stream",
     "text": [
      ">>> block index: 1\n",
      ">>> previous hash: none\n",
      ">>> current hash: hello\n",
      ">>> transaction: laura pays $1 to steve\n"
     ]
    }
   ],
   "source": [
    "genesis_block = Block(0, \"none\", 'laura pays $1 to steve', 'hello')\n",
    "genesis_block.show()"
   ]
  },
  {
   "cell_type": "code",
   "execution_count": 5,
   "metadata": {
    "collapsed": false
   },
   "outputs": [],
   "source": [
    "ledger = [genesis_block]"
   ]
  },
  {
   "cell_type": "markdown",
   "metadata": {},
   "source": [
    "## step 1: creating blocks\n",
    "nodes create a new Block for every new transaction/record."
   ]
  },
  {
   "cell_type": "code",
   "execution_count": 6,
   "metadata": {
    "collapsed": false
   },
   "outputs": [],
   "source": [
    "Node_Alice = Node()\n",
    "Node_Bob = Node()"
   ]
  },
  {
   "cell_type": "code",
   "execution_count": 7,
   "metadata": {
    "collapsed": false
   },
   "outputs": [
    {
     "name": "stdout",
     "output_type": "stream",
     "text": [
      ">>> block index: 2\n",
      ">>> previous hash: hello\n",
      ">>> current hash: -- placeholder hash --\n",
      ">>> transaction: steve pays $2 to michelle\n"
     ]
    }
   ],
   "source": [
    "block1 = Node_Alice.generate_new_block('steve pays $2 to michelle', ledger)\n",
    "block1.show()"
   ]
  },
  {
   "cell_type": "markdown",
   "metadata": {},
   "source": [
    "## step 2: attempt to add new block to the ledger\n",
    "\n",
    "a new Block cannot be added to the blockchain until its hash demonstrates **proof of work**. \n",
    "\n",
    "in our toy example, an acceptable hash is one where h(previous hash + transaction) starts with the character \"c\". h(x) in this case is sha1 hash function.\n",
    "\n",
    "for example, sha1(\"hello World11\") is 'cc8e9d1fbe83d1ce4b1bf546ebff3b735e4ff500'. since this hash output starts with the character \"c\", it will be considered to be a valid **proof of work** and thus its associated Block can be added to the ledger.\n",
    "\n",
    "in practice, an acceptable hash, usually sha256, must start with three zeros (eg \"000abfds...\"). "
   ]
  },
  {
   "cell_type": "code",
   "execution_count": 8,
   "metadata": {
    "collapsed": false
   },
   "outputs": [
    {
     "name": "stdout",
     "output_type": "stream",
     "text": [
      ">>> checking index... True\n",
      ">>> checking hash sequence... True\n",
      ">>> checking hash validity... False\n",
      ">>> update failed\n"
     ]
    },
    {
     "data": {
      "text/plain": [
       "False"
      ]
     },
     "execution_count": 8,
     "metadata": {},
     "output_type": "execute_result"
    }
   ],
   "source": [
    "# can new block be added to blockchain?\n",
    "Node_Alice.update_blockchain(block1, ledger)"
   ]
  },
  {
   "cell_type": "markdown",
   "metadata": {},
   "source": [
    "## step 3: miners demonstrate proof of work\n",
    "through brute force, miners find the correct hash that satisfies conditions. once the correct hash is identified, it will be assigned to that block, thereby enabling addition to the ledger."
   ]
  },
  {
   "cell_type": "code",
   "execution_count": 9,
   "metadata": {
    "collapsed": false
   },
   "outputs": [],
   "source": [
    "Miner_Adam = Miner()"
   ]
  },
  {
   "cell_type": "code",
   "execution_count": 10,
   "metadata": {
    "collapsed": false
   },
   "outputs": [
    {
     "name": "stdout",
     "output_type": "stream",
     "text": [
      "acceptable hash: 111111111111111111111111111111111111111111111111111111111111111111111\n"
     ]
    }
   ],
   "source": [
    "good_hash = Miner_Adam.calc_hash_seal(block1)\n",
    "print \"acceptable hash:\", good_hash"
   ]
  },
  {
   "cell_type": "code",
   "execution_count": 11,
   "metadata": {
    "collapsed": false
   },
   "outputs": [
    {
     "name": "stdout",
     "output_type": "stream",
     "text": [
      ">>> updating hash for block 2\n"
     ]
    }
   ],
   "source": [
    "# miner updates the block with the hash\n",
    "Miner_Adam.update_hash(block1, good_hash)"
   ]
  },
  {
   "cell_type": "code",
   "execution_count": 13,
   "metadata": {
    "collapsed": false
   },
   "outputs": [
    {
     "name": "stdout",
     "output_type": "stream",
     "text": [
      ">>> checking index... True\n",
      ">>> checking hash sequence... True\n",
      ">>> checking hash validity... True\n",
      ">>> successfully updated blockchain...\n"
     ]
    },
    {
     "data": {
      "text/plain": [
       "True"
      ]
     },
     "execution_count": 13,
     "metadata": {},
     "output_type": "execute_result"
    }
   ],
   "source": [
    "# with the new hash, verify new block can be added to blockchain\n",
    "Node_Alice.update_blockchain(block1, ledger)"
   ]
  },
  {
   "cell_type": "markdown",
   "metadata": {},
   "source": [
    "# simulate another transaction"
   ]
  },
  {
   "cell_type": "code",
   "execution_count": 14,
   "metadata": {
    "collapsed": false
   },
   "outputs": [
    {
     "name": "stdout",
     "output_type": "stream",
     "text": [
      ">>> block index: 3\n",
      ">>> previous hash: 111111111111111111111111111111111111111111111111111111111111111111111\n",
      ">>> current hash: -- placeholder hash --\n",
      ">>> transaction: michelle pays $1 to joanna\n"
     ]
    }
   ],
   "source": [
    "block2 = Node_Bob.generate_new_block('michelle pays $1 to joanna', ledger)\n",
    "block2.show()"
   ]
  },
  {
   "cell_type": "code",
   "execution_count": 15,
   "metadata": {
    "collapsed": false
   },
   "outputs": [
    {
     "name": "stdout",
     "output_type": "stream",
     "text": [
      ">>> checking index... True\n",
      ">>> checking hash sequence... True\n",
      ">>> checking hash validity... False\n"
     ]
    },
    {
     "data": {
      "text/plain": [
       "False"
      ]
     },
     "execution_count": 15,
     "metadata": {},
     "output_type": "execute_result"
    }
   ],
   "source": [
    "Node_Bob.check_block(block2, ledger)  # verify new block can be added to blockchain"
   ]
  },
  {
   "cell_type": "code",
   "execution_count": 16,
   "metadata": {
    "collapsed": false
   },
   "outputs": [
    {
     "name": "stdout",
     "output_type": "stream",
     "text": [
      "good_hash: 11111111111\n"
     ]
    }
   ],
   "source": [
    "good_hash = Miner_Adam.calc_hash_seal(block2)\n",
    "print \"good_hash:\", good_hash"
   ]
  },
  {
   "cell_type": "code",
   "execution_count": 17,
   "metadata": {
    "collapsed": false
   },
   "outputs": [
    {
     "name": "stdout",
     "output_type": "stream",
     "text": [
      ">>> updating hash for block 3\n"
     ]
    }
   ],
   "source": [
    "# since we've found the seal, we can update the block, thus approving it for blockchain addition\n",
    "Miner_Adam.update_hash(block2, good_hash)"
   ]
  },
  {
   "cell_type": "code",
   "execution_count": 18,
   "metadata": {
    "collapsed": false
   },
   "outputs": [
    {
     "name": "stdout",
     "output_type": "stream",
     "text": [
      ">>> checking index... True\n",
      ">>> checking hash sequence... True\n",
      ">>> checking hash validity... True\n"
     ]
    },
    {
     "data": {
      "text/plain": [
       "True"
      ]
     },
     "execution_count": 18,
     "metadata": {},
     "output_type": "execute_result"
    }
   ],
   "source": [
    "Node_Bob.check_block(block2, ledger)  # verify new block can be added to blockchain"
   ]
  },
  {
   "cell_type": "code",
   "execution_count": 19,
   "metadata": {
    "collapsed": false
   },
   "outputs": [
    {
     "name": "stdout",
     "output_type": "stream",
     "text": [
      ">>> checking index... True\n",
      ">>> checking hash sequence... True\n",
      ">>> checking hash validity... True\n",
      ">>> successfully updated blockchain...\n"
     ]
    },
    {
     "data": {
      "text/plain": [
       "True"
      ]
     },
     "execution_count": 19,
     "metadata": {},
     "output_type": "execute_result"
    }
   ],
   "source": [
    "# with the new hash, verify new block can be added to blockchain\n",
    "Node_Bob.update_blockchain(block2, ledger)"
   ]
  },
  {
   "cell_type": "code",
   "execution_count": 20,
   "metadata": {
    "collapsed": false
   },
   "outputs": [
    {
     "name": "stdout",
     "output_type": "stream",
     "text": [
      "record 1 : laura pays $1 to steve\n",
      "record 2 : steve pays $2 to michelle\n",
      "record 3 : michelle pays $1 to joanna\n"
     ]
    }
   ],
   "source": [
    "# examine history\n",
    "for blocks in ledger:\n",
    "    print blocks.fetch_transaction()"
   ]
  },
  {
   "cell_type": "code",
   "execution_count": 21,
   "metadata": {
    "collapsed": false
   },
   "outputs": [
    {
     "name": "stdout",
     "output_type": "stream",
     "text": [
      "compare hash signatures True\n"
     ]
    }
   ],
   "source": [
    "# see if record 2 is valid\n",
    "print \"compare hash signatures\", ledger[1].curr_hash == Miner.calc_hash_seal(ledger[1])"
   ]
  },
  {
   "cell_type": "markdown",
   "metadata": {
    "collapsed": true
   },
   "source": [
    "# what is record 1 was altered?"
   ]
  },
  {
   "cell_type": "code",
   "execution_count": 86,
   "metadata": {
    "collapsed": false
   },
   "outputs": [
    {
     "name": "stdout",
     "output_type": "stream",
     "text": [
      "record 1 : laura pays $1 to steve\n",
      "record 2 : steve pays $2 to michelle\n",
      "record 3 : michelle pays $1 to joanna\n"
     ]
    }
   ],
   "source": [
    "# examine history\n",
    "for b in bitcoin:\n",
    "    print b.fetch_transaction()"
   ]
  },
  {
   "cell_type": "code",
   "execution_count": 87,
   "metadata": {
    "collapsed": false
   },
   "outputs": [],
   "source": [
    "bitcoin[1].data = \"dummy data\""
   ]
  },
  {
   "cell_type": "code",
   "execution_count": 88,
   "metadata": {
    "collapsed": false
   },
   "outputs": [
    {
     "name": "stdout",
     "output_type": "stream",
     "text": [
      "record 1 : laura pays $1 to steve\n",
      "record 2 : dummy data\n",
      "record 3 : michelle pays $1 to joanna\n"
     ]
    }
   ],
   "source": [
    "# examine history\n",
    "for b in bitcoin:\n",
    "    print b.fetch_transaction()"
   ]
  },
  {
   "cell_type": "code",
   "execution_count": 89,
   "metadata": {
    "collapsed": false
   },
   "outputs": [
    {
     "name": "stdout",
     "output_type": "stream",
     "text": [
      "compare hash signatures False\n"
     ]
    }
   ],
   "source": [
    "# see if record 2 is valid\n",
    "print \"compare hash signatures\", bitcoin[1].curr_hash == Miner.calc_hash_seal(bitcoin[1])"
   ]
  }
 ],
 "metadata": {
  "kernelspec": {
   "display_name": "Python 2",
   "language": "python",
   "name": "python2"
  },
  "language_info": {
   "codemirror_mode": {
    "name": "ipython",
    "version": 2
   },
   "file_extension": ".py",
   "mimetype": "text/x-python",
   "name": "python",
   "nbconvert_exporter": "python",
   "pygments_lexer": "ipython2",
   "version": "2.7.11"
  }
 },
 "nbformat": 4,
 "nbformat_minor": 0
}
