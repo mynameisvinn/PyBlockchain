{
 "cells": [
  {
   "cell_type": "code",
   "execution_count": 1,
   "metadata": {
    "collapsed": true
   },
   "outputs": [],
   "source": [
    "from PyBlockchain import Miner, Node, Block, Blockchain, util"
   ]
  },
  {
   "cell_type": "markdown",
   "metadata": {},
   "source": [
    "## step 0: initialize blockchain\n",
    "\n",
    "in this toy example, the blockchain will be a simple python list containing Block objects."
   ]
  },
  {
   "cell_type": "code",
   "execution_count": 3,
   "metadata": {},
   "outputs": [
    {
     "name": "stdout",
     "output_type": "stream",
     "text": [
      ">>> block hash: 0\n",
      ">>> block index: 0\n",
      ">>> previous block hash: 0\n",
      ">>> root hash: 5dea0672f7952996746a0dc5637ae56ac349ceb2df0f48358ef0dca9981b9823\n",
      ">>> nonce:  0\n",
      ">>> transactions ['0', '0', '0', '0']\n"
     ]
    }
   ],
   "source": [
    "genesis_block = Block(['0', '0', '0', '0'])  # create genesis block\n",
    "util.show(genesis_block)"
   ]
  },
  {
   "cell_type": "code",
   "execution_count": 4,
   "metadata": {
    "collapsed": true
   },
   "outputs": [],
   "source": [
    "my_blockchain = Blockchain(genesis_block)  # add genesis block to blockchain"
   ]
  },
  {
   "cell_type": "markdown",
   "metadata": {},
   "source": [
    "## step 1: creating a new block\n",
    "nodes create a new Block for every new batch of transactions."
   ]
  },
  {
   "cell_type": "code",
   "execution_count": 5,
   "metadata": {
    "collapsed": true
   },
   "outputs": [],
   "source": [
    "# instantiate two nodes, which will record transactions on blocks\n",
    "Node_Alice = Node(my_blockchain)\n",
    "Node_Bob = Node(my_blockchain)"
   ]
  },
  {
   "cell_type": "code",
   "execution_count": 6,
   "metadata": {},
   "outputs": [
    {
     "name": "stdout",
     "output_type": "stream",
     "text": [
      ">>> block hash: 0\n",
      ">>> block index: 1\n",
      ">>> previous block hash: 0\n",
      ">>> root hash: 0128252d0d8d754a2af104ae88b4348e6b35d56d5a676698fa8672d5849a28e6\n",
      ">>> nonce:  0\n",
      ">>> transactions ['S2M', '23', '13', '13']\n"
     ]
    }
   ],
   "source": [
    "block1 = Node_Alice.generate_new_block(['S2M', '23', '13', '13'])\n",
    "util.show(block1)"
   ]
  },
  {
   "cell_type": "markdown",
   "metadata": {},
   "source": [
    "## step 2: add new block to the blockchain\n",
    "\n",
    "a new block cannot be added to the blockchain until it demonstrates **proof of work**. "
   ]
  },
  {
   "cell_type": "code",
   "execution_count": 7,
   "metadata": {},
   "outputs": [
    {
     "name": "stdout",
     "output_type": "stream",
     "text": [
      ">>> checking index... True\n",
      ">>> checking hash sequence... True\n",
      ">>> checking hash validity... False\n",
      ">>> update failed\n"
     ]
    },
    {
     "data": {
      "text/plain": [
       "False"
      ]
     },
     "execution_count": 7,
     "metadata": {},
     "output_type": "execute_result"
    }
   ],
   "source": [
    "Node_Alice.update_blockchain(block1)"
   ]
  },
  {
   "cell_type": "markdown",
   "metadata": {},
   "source": [
    "## step 3: miners demonstrate proof of work\n",
    "through brute force, miners find an acceptable block hash. (there are many possible correct hashes.)"
   ]
  },
  {
   "cell_type": "code",
   "execution_count": 9,
   "metadata": {
    "collapsed": true
   },
   "outputs": [],
   "source": [
    "miner_sfo = Miner()  # miners are nodes that search for an acceptable hash"
   ]
  },
  {
   "cell_type": "code",
   "execution_count": 10,
   "metadata": {},
   "outputs": [
    {
     "name": "stdout",
     "output_type": "stream",
     "text": [
      "valid hash: 0f08036adbd1a22c78a04ad8186856bd68133c23f89bd644e97460db9dc2660c\n"
     ]
    }
   ],
   "source": [
    "good_hash = miner_sfo.calculate_hash_block(block1)\n",
    "print \"valid hash:\", good_hash"
   ]
  },
  {
   "cell_type": "code",
   "execution_count": 11,
   "metadata": {
    "collapsed": true
   },
   "outputs": [],
   "source": [
    "# miner updates the block with correct hash\n",
    "miner_sfo.update_block_hash(block1, good_hash)"
   ]
  },
  {
   "cell_type": "code",
   "execution_count": 12,
   "metadata": {},
   "outputs": [
    {
     "name": "stdout",
     "output_type": "stream",
     "text": [
      ">>> block hash: 0f08036adbd1a22c78a04ad8186856bd68133c23f89bd644e97460db9dc2660c\n",
      ">>> block index: 1\n",
      ">>> previous block hash: 0\n",
      ">>> root hash: 0128252d0d8d754a2af104ae88b4348e6b35d56d5a676698fa8672d5849a28e6\n",
      ">>> nonce:  52\n",
      ">>> transactions ['S2M', '23', '13', '13']\n"
     ]
    }
   ],
   "source": [
    "util.show(block1)"
   ]
  },
  {
   "cell_type": "code",
   "execution_count": 13,
   "metadata": {},
   "outputs": [
    {
     "name": "stdout",
     "output_type": "stream",
     "text": [
      ">>> checking index... True\n",
      ">>> checking hash sequence... True\n",
      ">>> checking hash validity... True\n",
      ">>> successfully updated blockchain...\n"
     ]
    },
    {
     "data": {
      "text/plain": [
       "True"
      ]
     },
     "execution_count": 13,
     "metadata": {},
     "output_type": "execute_result"
    }
   ],
   "source": [
    "# with the new hash, verify new block can be added to blockchain\n",
    "Node_Alice.update_blockchain(block1)"
   ]
  },
  {
   "cell_type": "code",
   "execution_count": 15,
   "metadata": {},
   "outputs": [
    {
     "name": "stdout",
     "output_type": "stream",
     "text": [
      ">>> block hash: 0f08036adbd1a22c78a04ad8186856bd68133c23f89bd644e97460db9dc2660c\n",
      ">>> block index: 1\n",
      ">>> previous block hash: 0\n",
      ">>> root hash: 0128252d0d8d754a2af104ae88b4348e6b35d56d5a676698fa8672d5849a28e6\n",
      ">>> nonce:  52\n",
      ">>> transactions ['S2M', '23', '13', '13']\n"
     ]
    }
   ],
   "source": [
    "util.show(block1)"
   ]
  },
  {
   "cell_type": "markdown",
   "metadata": {},
   "source": [
    "### simulate another addition"
   ]
  },
  {
   "cell_type": "code",
   "execution_count": 16,
   "metadata": {},
   "outputs": [
    {
     "name": "stdout",
     "output_type": "stream",
     "text": [
      ">>> block hash: 0\n",
      ">>> block index: 2\n",
      ">>> previous block hash: 0f08036adbd1a22c78a04ad8186856bd68133c23f89bd644e97460db9dc2660c\n",
      ">>> root hash: 3116f5dfff6676720c01e76864d025de85464120fb5e42444ad5410767f4f4e4\n",
      ">>> nonce:  0\n",
      ">>> transactions ['M1J', 'T6H', 'S2X', 'G4B']\n"
     ]
    }
   ],
   "source": [
    "block2 = Node_Alice.generate_new_block(['M1J', 'T6H', 'S2X', 'G4B'])\n",
    "util.show(block2)"
   ]
  },
  {
   "cell_type": "code",
   "execution_count": 17,
   "metadata": {},
   "outputs": [
    {
     "name": "stdout",
     "output_type": "stream",
     "text": [
      ">>> checking index... True\n",
      ">>> checking hash sequence... True\n",
      ">>> checking hash validity... False\n"
     ]
    },
    {
     "data": {
      "text/plain": [
       "False"
      ]
     },
     "execution_count": 17,
     "metadata": {},
     "output_type": "execute_result"
    }
   ],
   "source": [
    "Node_Alice.check_block(block2)  # verify new block can be added to blockchain"
   ]
  },
  {
   "cell_type": "code",
   "execution_count": 18,
   "metadata": {},
   "outputs": [
    {
     "name": "stdout",
     "output_type": "stream",
     "text": [
      "valid hash: 01ee3ceef44e751036a64ac9e6869096c896498d0b764eaa6f41df92937f280f\n"
     ]
    }
   ],
   "source": [
    "good_hash = miner_sfo.calculate_hash_block(block2)\n",
    "print \"valid hash:\", good_hash"
   ]
  },
  {
   "cell_type": "code",
   "execution_count": 19,
   "metadata": {
    "collapsed": true
   },
   "outputs": [],
   "source": [
    "miner_sfo.update_block_hash(block2, good_hash)"
   ]
  },
  {
   "cell_type": "code",
   "execution_count": 20,
   "metadata": {},
   "outputs": [
    {
     "name": "stdout",
     "output_type": "stream",
     "text": [
      ">>> checking index... True\n",
      ">>> checking hash sequence... True\n",
      ">>> checking hash validity... True\n"
     ]
    },
    {
     "data": {
      "text/plain": [
       "True"
      ]
     },
     "execution_count": 20,
     "metadata": {},
     "output_type": "execute_result"
    }
   ],
   "source": [
    "Node_Alice.check_block(block2)  # verify new block can be added to blockchain"
   ]
  },
  {
   "cell_type": "code",
   "execution_count": 21,
   "metadata": {},
   "outputs": [
    {
     "name": "stdout",
     "output_type": "stream",
     "text": [
      ">>> block hash: 01ee3ceef44e751036a64ac9e6869096c896498d0b764eaa6f41df92937f280f\n",
      ">>> block index: 2\n",
      ">>> previous block hash: 0f08036adbd1a22c78a04ad8186856bd68133c23f89bd644e97460db9dc2660c\n",
      ">>> root hash: 3116f5dfff6676720c01e76864d025de85464120fb5e42444ad5410767f4f4e4\n",
      ">>> nonce:  13\n",
      ">>> transactions ['M1J', 'T6H', 'S2X', 'G4B']\n"
     ]
    }
   ],
   "source": [
    "util.show(block2)"
   ]
  },
  {
   "cell_type": "code",
   "execution_count": 22,
   "metadata": {},
   "outputs": [
    {
     "name": "stdout",
     "output_type": "stream",
     "text": [
      ">>> checking index... True\n",
      ">>> checking hash sequence... True\n",
      ">>> checking hash validity... True\n",
      ">>> successfully updated blockchain...\n"
     ]
    },
    {
     "data": {
      "text/plain": [
       "True"
      ]
     },
     "execution_count": 22,
     "metadata": {},
     "output_type": "execute_result"
    }
   ],
   "source": [
    "# with the new hash, verify new block can be added to blockchain\n",
    "Node_Alice.update_blockchain(block2)"
   ]
  },
  {
   "cell_type": "code",
   "execution_count": 23,
   "metadata": {},
   "outputs": [
    {
     "name": "stdout",
     "output_type": "stream",
     "text": [
      "0 ['0', '0', '0', '0']\n",
      "1 ['S2M', '23', '13', '13']\n",
      "2 ['M1J', 'T6H', 'S2X', 'G4B']\n"
     ]
    }
   ],
   "source": [
    "# examine history\n",
    "for blocks in Node_Alice.blockchain_copy.blockchain:\n",
    "    print blocks.index, blocks.ls_transactions"
   ]
  },
  {
   "cell_type": "code",
   "execution_count": 24,
   "metadata": {},
   "outputs": [
    {
     "name": "stdout",
     "output_type": "stream",
     "text": [
      "hash signatures match?"
     ]
    },
    {
     "data": {
      "text/plain": [
       "True"
      ]
     },
     "execution_count": 24,
     "metadata": {},
     "output_type": "execute_result"
    },
    {
     "name": "stdout",
     "output_type": "stream",
     "text": [
      "\n"
     ]
    }
   ],
   "source": [
    "# see if record 2 is valid\n",
    "print \"hash signatures match?\", \n",
    "Node_Alice.blockchain_copy.blockchain[1].block_hash == Miner.calculate_hash_block(Node_Alice.blockchain_copy.blockchain[1])"
   ]
  },
  {
   "cell_type": "markdown",
   "metadata": {
    "collapsed": true
   },
   "source": [
    "### what if record 1 was altered?"
   ]
  },
  {
   "cell_type": "code",
   "execution_count": 52,
   "metadata": {},
   "outputs": [
    {
     "name": "stdout",
     "output_type": "stream",
     "text": [
      "0 ['0', '0', '0', '0']\n",
      "1 ['S2M', '23', '13', '13']\n",
      "2 ['M1J', 'T6H', 'S2X', 'G4B']\n"
     ]
    }
   ],
   "source": [
    "# examine history\n",
    "for blocks in Node_Alice.blockchain_copy.blockchain:\n",
    "    print blocks.index, blocks.ls_transactions"
   ]
  },
  {
   "cell_type": "code",
   "execution_count": 59,
   "metadata": {},
   "outputs": [
    {
     "name": "stdout",
     "output_type": "stream",
     "text": [
      "\n"
     ]
    }
   ],
   "source": [
    "Node_Alice.blockchain_copy.blockchain[1].ls_transactions = ['s32', 'f2c', 'd3c', 'g67']"
   ]
  },
  {
   "cell_type": "code",
   "execution_count": 60,
   "metadata": {},
   "outputs": [
    {
     "name": "stdout",
     "output_type": "stream",
     "text": [
      "0 ['0', '0', '0', '0']\n",
      "1 ['s32', 'f2c', 'd3c', 'g67']\n",
      "2 ['M1J', 'T6H', 'S2X', 'G4B']\n"
     ]
    }
   ],
   "source": [
    "# examine history\n",
    "for blocks in Node_Alice.blockchain_copy.blockchain:\n",
    "    print blocks.index, blocks.ls_transactions"
   ]
  },
  {
   "cell_type": "code",
   "execution_count": 61,
   "metadata": {},
   "outputs": [
    {
     "name": "stdout",
     "output_type": "stream",
     "text": [
      "hash signatures match?"
     ]
    },
    {
     "data": {
      "text/plain": [
       "False"
      ]
     },
     "execution_count": 61,
     "metadata": {},
     "output_type": "execute_result"
    },
    {
     "name": "stdout",
     "output_type": "stream",
     "text": [
      "\n"
     ]
    }
   ],
   "source": [
    "# see if record 2 is valid\n",
    "print \"hash signatures match?\", \n",
    "Node_Alice.blockchain_copy.blockchain[1].block_hash == Miner.calculate_hash_block(Node_Alice.blockchain_copy.blockchain[1])"
   ]
  },
  {
   "cell_type": "code",
   "execution_count": null,
   "metadata": {
    "collapsed": true
   },
   "outputs": [],
   "source": []
  },
  {
   "cell_type": "code",
   "execution_count": null,
   "metadata": {
    "collapsed": true
   },
   "outputs": [],
   "source": []
  }
 ],
 "metadata": {
  "kernelspec": {
   "display_name": "Python 2",
   "language": "python",
   "name": "python2"
  },
  "language_info": {
   "codemirror_mode": {
    "name": "ipython",
    "version": 2
   },
   "file_extension": ".py",
   "mimetype": "text/x-python",
   "name": "python",
   "nbconvert_exporter": "python",
   "pygments_lexer": "ipython2",
   "version": "2.7.13"
  }
 },
 "nbformat": 4,
 "nbformat_minor": 1
}
