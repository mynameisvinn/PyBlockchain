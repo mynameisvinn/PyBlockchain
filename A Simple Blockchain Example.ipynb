{
 "cells": [
  {
   "cell_type": "code",
   "execution_count": null,
   "metadata": {
    "collapsed": true
   },
   "outputs": [],
   "source": [
    "from PyBlockchain import Miner, Node, Block, Blockchain"
   ]
  },
  {
   "cell_type": "markdown",
   "metadata": {},
   "source": [
    "## step 0: initialize chain\n",
    "\n",
    "we initialize the blockchain (\"ledger\") with the genesis block. in our toy example, our ledger will be a python list containing Block objects."
   ]
  },
  {
   "cell_type": "code",
   "execution_count": null,
   "metadata": {},
   "outputs": [],
   "source": [
    "genesis_block = Block('0')\n",
    "genesis_block.show()"
   ]
  },
  {
   "cell_type": "code",
   "execution_count": null,
   "metadata": {
    "collapsed": true
   },
   "outputs": [],
   "source": [
    "ledger = Blockchain(genesis_block)"
   ]
  },
  {
   "cell_type": "markdown",
   "metadata": {},
   "source": [
    "## step 1: creating a new block\n",
    "nodes create a new Block for every new batch of transactions."
   ]
  },
  {
   "cell_type": "code",
   "execution_count": null,
   "metadata": {
    "collapsed": true
   },
   "outputs": [],
   "source": [
    "Node_Alice = Node(ledger)\n",
    "Node_Bob = Node(ledger)"
   ]
  },
  {
   "cell_type": "code",
   "execution_count": null,
   "metadata": {},
   "outputs": [],
   "source": [
    "block1 = Node_Alice.generate_new_block('S2M')\n",
    "block1.show()"
   ]
  },
  {
   "cell_type": "markdown",
   "metadata": {},
   "source": [
    "## step 2: attempt to add new block to the ledger\n",
    "\n",
    "a new Block cannot be added to the blockchain until its hash demonstrates **proof of work**. \n",
    "\n",
    "in our toy example, an acceptable hash is one where h(previous hash + transaction) starts with the character \"c\". h(x) in this case is sha1 hash function.\n",
    "\n",
    "for example, sha1(\"hello World11\") is 'cc8e9d1fbe83d1ce4b1bf546ebff3b735e4ff500'. since this hash output starts with the character \"c\", it will be considered to be a valid **proof of work** and thus its associated Block can be added to the ledger.\n",
    "\n",
    "in practice, an acceptable hash, usually sha256, must start with three zeros (eg \"000abfds...\"). "
   ]
  },
  {
   "cell_type": "code",
   "execution_count": null,
   "metadata": {},
   "outputs": [],
   "source": [
    "# can new block be added to blockchain?\n",
    "Node_Alice.update_blockchain(block1)"
   ]
  },
  {
   "cell_type": "markdown",
   "metadata": {},
   "source": [
    "## step 3: miners demonstrate proof of work\n",
    "through brute force, miners find the correct hash that satisfies conditions. once the correct hash is identified, it will be assigned to that block, thereby enabling addition to the ledger."
   ]
  },
  {
   "cell_type": "code",
   "execution_count": null,
   "metadata": {
    "collapsed": true
   },
   "outputs": [],
   "source": [
    "Miner_Adam = Miner()"
   ]
  },
  {
   "cell_type": "code",
   "execution_count": null,
   "metadata": {},
   "outputs": [],
   "source": [
    "good_hash = Miner_Adam.calculate_hash_block(block1)\n",
    "print \"valid hash:\", good_hash"
   ]
  },
  {
   "cell_type": "code",
   "execution_count": null,
   "metadata": {
    "collapsed": true
   },
   "outputs": [],
   "source": [
    "# miner updates the block with correct hash\n",
    "Miner_Adam.update_block_hash(block1, good_hash)"
   ]
  },
  {
   "cell_type": "code",
   "execution_count": null,
   "metadata": {},
   "outputs": [],
   "source": [
    "block1.show()"
   ]
  },
  {
   "cell_type": "code",
   "execution_count": null,
   "metadata": {},
   "outputs": [],
   "source": [
    "# with the new hash, verify new block can be added to blockchain\n",
    "Node_Alice.update_blockchain(block1)"
   ]
  },
  {
   "cell_type": "code",
   "execution_count": null,
   "metadata": {},
   "outputs": [],
   "source": [
    "block1.show()"
   ]
  },
  {
   "cell_type": "markdown",
   "metadata": {},
   "source": [
    "### simulate another transaction"
   ]
  },
  {
   "cell_type": "code",
   "execution_count": null,
   "metadata": {},
   "outputs": [],
   "source": [
    "block2 = Node_Alice.generate_new_block('M1J')\n",
    "block2.show()"
   ]
  },
  {
   "cell_type": "code",
   "execution_count": null,
   "metadata": {},
   "outputs": [],
   "source": [
    "Node_Alice.check_block(block2)  # verify new block can be added to blockchain"
   ]
  },
  {
   "cell_type": "code",
   "execution_count": null,
   "metadata": {},
   "outputs": [],
   "source": [
    "good_hash = Miner_Adam.calculate_hash_block(block2)\n",
    "print \"valid hash:\", good_hash"
   ]
  },
  {
   "cell_type": "code",
   "execution_count": null,
   "metadata": {
    "collapsed": true
   },
   "outputs": [],
   "source": [
    "# since we've found the seal, we can update the block, thus approving it for blockchain addition\n",
    "Miner_Adam.update_block_hash(block2, good_hash)"
   ]
  },
  {
   "cell_type": "code",
   "execution_count": null,
   "metadata": {},
   "outputs": [],
   "source": [
    "Node_Alice.check_block(block2)  # verify new block can be added to blockchain"
   ]
  },
  {
   "cell_type": "code",
   "execution_count": null,
   "metadata": {},
   "outputs": [],
   "source": [
    "block2.show()"
   ]
  },
  {
   "cell_type": "code",
   "execution_count": null,
   "metadata": {},
   "outputs": [],
   "source": [
    "# with the new hash, verify new block can be added to blockchain\n",
    "Node_Alice.update_blockchain(block2)"
   ]
  },
  {
   "cell_type": "code",
   "execution_count": null,
   "metadata": {},
   "outputs": [],
   "source": [
    "# examine history\n",
    "for blocks in Node_Alice.blockchain_copy.blockchain:\n",
    "    print blocks.fetch_transaction()"
   ]
  },
  {
   "cell_type": "code",
   "execution_count": null,
   "metadata": {},
   "outputs": [],
   "source": [
    "# see if record 2 is valid\n",
    "print \"hash signatures match?\", \n",
    "Node_Alice.blockchain_copy.blockchain[1].block_hash == Miner.calculate_hash_block(Node_Alice.blockchain_copy.blockchain[1])"
   ]
  },
  {
   "cell_type": "markdown",
   "metadata": {
    "collapsed": true
   },
   "source": [
    "# what is record 1 was altered?"
   ]
  },
  {
   "cell_type": "code",
   "execution_count": null,
   "metadata": {},
   "outputs": [],
   "source": [
    "# examine history\n",
    "for blocks in Node_Alice.blockchain_copy.blockchain:\n",
    "    print blocks.fetch_transaction()"
   ]
  },
  {
   "cell_type": "code",
   "execution_count": null,
   "metadata": {
    "collapsed": true
   },
   "outputs": [],
   "source": [
    "Node_Alice.blockchain_copy.blockchain[1].data = \"cheater\""
   ]
  },
  {
   "cell_type": "code",
   "execution_count": null,
   "metadata": {},
   "outputs": [],
   "source": [
    "# examine history\n",
    "for blocks in Node_Alice.blockchain_copy.blockchain:\n",
    "    print blocks.fetch_transaction()"
   ]
  },
  {
   "cell_type": "code",
   "execution_count": null,
   "metadata": {},
   "outputs": [],
   "source": [
    "# see if record 2 is valid\n",
    "print \"hash signatures match?\", \n",
    "Node_Alice.blockchain_copy.blockchain[1].block_hash == Miner.calculate_hash_block(Node_Alice.blockchain_copy.blockchain[1])"
   ]
  }
 ],
 "metadata": {
  "kernelspec": {
   "display_name": "Python 2",
   "language": "python",
   "name": "python2"
  },
  "language_info": {
   "codemirror_mode": {
    "name": "ipython",
    "version": 2
   },
   "file_extension": ".py",
   "mimetype": "text/x-python",
   "name": "python",
   "nbconvert_exporter": "python",
   "pygments_lexer": "ipython2",
   "version": "2.7.13"
  }
 },
 "nbformat": 4,
 "nbformat_minor": 1
}
