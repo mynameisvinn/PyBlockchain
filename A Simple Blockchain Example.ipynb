{
 "cells": [
  {
   "cell_type": "code",
   "execution_count": 31,
   "metadata": {
    "collapsed": true
   },
   "outputs": [],
   "source": [
    "from PyBlockchain import Miner, Node, Block, Blockchain"
   ]
  },
  {
   "cell_type": "markdown",
   "metadata": {},
   "source": [
    "## step 0: initialize blockchain\n",
    "\n",
    "in this toy example, the blockchain will be a simple python list containing Block objects."
   ]
  },
  {
   "cell_type": "code",
   "execution_count": 32,
   "metadata": {},
   "outputs": [
    {
     "name": "stdout",
     "output_type": "stream",
     "text": [
      ">>> block hash: 0\n",
      ">>> block index: 0\n",
      ">>> previous block hash: 0\n",
      ">>> root hash: 0\n",
      ">>> nonce:  0\n"
     ]
    }
   ],
   "source": [
    "genesis_block = Block('0')\n",
    "genesis_block.show()"
   ]
  },
  {
   "cell_type": "code",
   "execution_count": 33,
   "metadata": {
    "collapsed": true
   },
   "outputs": [],
   "source": [
    "my_blockchain = Blockchain(genesis_block)"
   ]
  },
  {
   "cell_type": "markdown",
   "metadata": {},
   "source": [
    "## step 1: creating a new block\n",
    "nodes create a new Block for every new batch of transactions."
   ]
  },
  {
   "cell_type": "code",
   "execution_count": 34,
   "metadata": {
    "collapsed": true
   },
   "outputs": [],
   "source": [
    "Node_Alice = Node(my_blockchain)\n",
    "Node_Bob = Node(my_blockchain)"
   ]
  },
  {
   "cell_type": "code",
   "execution_count": 35,
   "metadata": {},
   "outputs": [
    {
     "name": "stdout",
     "output_type": "stream",
     "text": [
      ">>> block hash: 0\n",
      ">>> block index: 1\n",
      ">>> previous block hash: 0\n",
      ">>> root hash: S2M\n",
      ">>> nonce:  0\n"
     ]
    }
   ],
   "source": [
    "block1 = Node_Alice.generate_new_block('S2M')\n",
    "block1.show()"
   ]
  },
  {
   "cell_type": "markdown",
   "metadata": {},
   "source": [
    "## step 2: add new block to the blockchain\n",
    "\n",
    "a new block cannot be added to the blockchain until it demonstrates **proof of work**. "
   ]
  },
  {
   "cell_type": "code",
   "execution_count": 36,
   "metadata": {},
   "outputs": [
    {
     "name": "stdout",
     "output_type": "stream",
     "text": [
      ">>> checking index... True\n",
      ">>> checking hash sequence... True\n",
      ">>> checking hash validity... False\n",
      ">>> update failed\n"
     ]
    },
    {
     "data": {
      "text/plain": [
       "False"
      ]
     },
     "execution_count": 36,
     "metadata": {},
     "output_type": "execute_result"
    }
   ],
   "source": [
    "# can new block be added to blockchain?\n",
    "Node_Alice.update_blockchain(block1)"
   ]
  },
  {
   "cell_type": "markdown",
   "metadata": {},
   "source": [
    "## step 3: miners demonstrate proof of work\n",
    "through brute force, miners find an acceptable block hash. (there are many possible correct hashes.)"
   ]
  },
  {
   "cell_type": "code",
   "execution_count": 37,
   "metadata": {
    "collapsed": true
   },
   "outputs": [],
   "source": [
    "miner_sfo = Miner()"
   ]
  },
  {
   "cell_type": "code",
   "execution_count": 38,
   "metadata": {},
   "outputs": [
    {
     "name": "stdout",
     "output_type": "stream",
     "text": [
      "valid hash: 060dfd33d4053943d0b625b20b648d13ab2497ffdeeb6469c61e482c1ce99f62\n"
     ]
    }
   ],
   "source": [
    "good_hash = miner_sfo.calculate_hash_block(block1)\n",
    "print \"valid hash:\", good_hash"
   ]
  },
  {
   "cell_type": "code",
   "execution_count": 39,
   "metadata": {
    "collapsed": true
   },
   "outputs": [],
   "source": [
    "# miner updates the block with correct hash\n",
    "miner_sfo.update_block_hash(block1, good_hash)"
   ]
  },
  {
   "cell_type": "code",
   "execution_count": 40,
   "metadata": {},
   "outputs": [
    {
     "name": "stdout",
     "output_type": "stream",
     "text": [
      ">>> block hash: 060dfd33d4053943d0b625b20b648d13ab2497ffdeeb6469c61e482c1ce99f62\n",
      ">>> block index: 1\n",
      ">>> previous block hash: 0\n",
      ">>> root hash: S2M\n",
      ">>> nonce:  0\n"
     ]
    }
   ],
   "source": [
    "block1.show()"
   ]
  },
  {
   "cell_type": "code",
   "execution_count": 41,
   "metadata": {},
   "outputs": [
    {
     "name": "stdout",
     "output_type": "stream",
     "text": [
      ">>> checking index... True\n",
      ">>> checking hash sequence... True\n",
      ">>> checking hash validity... True\n",
      ">>> successfully updated blockchain...\n"
     ]
    },
    {
     "data": {
      "text/plain": [
       "True"
      ]
     },
     "execution_count": 41,
     "metadata": {},
     "output_type": "execute_result"
    }
   ],
   "source": [
    "# with the new hash, verify new block can be added to blockchain\n",
    "Node_Alice.update_blockchain(block1)"
   ]
  },
  {
   "cell_type": "code",
   "execution_count": 42,
   "metadata": {},
   "outputs": [
    {
     "name": "stdout",
     "output_type": "stream",
     "text": [
      ">>> block hash: 060dfd33d4053943d0b625b20b648d13ab2497ffdeeb6469c61e482c1ce99f62\n",
      ">>> block index: 1\n",
      ">>> previous block hash: 0\n",
      ">>> root hash: S2M\n",
      ">>> nonce:  0\n"
     ]
    }
   ],
   "source": [
    "block1.show()"
   ]
  },
  {
   "cell_type": "markdown",
   "metadata": {},
   "source": [
    "### simulate another addition"
   ]
  },
  {
   "cell_type": "code",
   "execution_count": 43,
   "metadata": {},
   "outputs": [
    {
     "name": "stdout",
     "output_type": "stream",
     "text": [
      ">>> block hash: 0\n",
      ">>> block index: 2\n",
      ">>> previous block hash: 060dfd33d4053943d0b625b20b648d13ab2497ffdeeb6469c61e482c1ce99f62\n",
      ">>> root hash: M1J\n",
      ">>> nonce:  0\n"
     ]
    }
   ],
   "source": [
    "block2 = Node_Alice.generate_new_block('M1J')\n",
    "block2.show()"
   ]
  },
  {
   "cell_type": "code",
   "execution_count": 44,
   "metadata": {},
   "outputs": [
    {
     "name": "stdout",
     "output_type": "stream",
     "text": [
      ">>> checking index... True\n",
      ">>> checking hash sequence... True\n",
      ">>> checking hash validity... False\n"
     ]
    },
    {
     "data": {
      "text/plain": [
       "False"
      ]
     },
     "execution_count": 44,
     "metadata": {},
     "output_type": "execute_result"
    }
   ],
   "source": [
    "Node_Alice.check_block(block2)  # verify new block can be added to blockchain"
   ]
  },
  {
   "cell_type": "code",
   "execution_count": 45,
   "metadata": {},
   "outputs": [
    {
     "name": "stdout",
     "output_type": "stream",
     "text": [
      "valid hash: 01a09a52507de4c23869fe8dff7750e320330714de935145551cb62e40089c1d\n"
     ]
    }
   ],
   "source": [
    "good_hash = miner_sfo.calculate_hash_block(block2)\n",
    "print \"valid hash:\", good_hash"
   ]
  },
  {
   "cell_type": "code",
   "execution_count": 46,
   "metadata": {
    "collapsed": true
   },
   "outputs": [],
   "source": [
    "miner_sfo.update_block_hash(block2, good_hash)"
   ]
  },
  {
   "cell_type": "code",
   "execution_count": 47,
   "metadata": {},
   "outputs": [
    {
     "name": "stdout",
     "output_type": "stream",
     "text": [
      ">>> checking index... True\n",
      ">>> checking hash sequence... True\n",
      ">>> checking hash validity... True\n"
     ]
    },
    {
     "data": {
      "text/plain": [
       "True"
      ]
     },
     "execution_count": 47,
     "metadata": {},
     "output_type": "execute_result"
    }
   ],
   "source": [
    "Node_Alice.check_block(block2)  # verify new block can be added to blockchain"
   ]
  },
  {
   "cell_type": "code",
   "execution_count": 48,
   "metadata": {},
   "outputs": [
    {
     "name": "stdout",
     "output_type": "stream",
     "text": [
      ">>> block hash: 01a09a52507de4c23869fe8dff7750e320330714de935145551cb62e40089c1d\n",
      ">>> block index: 2\n",
      ">>> previous block hash: 060dfd33d4053943d0b625b20b648d13ab2497ffdeeb6469c61e482c1ce99f62\n",
      ">>> root hash: M1J\n",
      ">>> nonce:  25\n"
     ]
    }
   ],
   "source": [
    "block2.show()"
   ]
  },
  {
   "cell_type": "code",
   "execution_count": 49,
   "metadata": {},
   "outputs": [
    {
     "name": "stdout",
     "output_type": "stream",
     "text": [
      ">>> checking index... True\n",
      ">>> checking hash sequence... True\n",
      ">>> checking hash validity... True\n",
      ">>> successfully updated blockchain...\n"
     ]
    },
    {
     "data": {
      "text/plain": [
       "True"
      ]
     },
     "execution_count": 49,
     "metadata": {},
     "output_type": "execute_result"
    }
   ],
   "source": [
    "# with the new hash, verify new block can be added to blockchain\n",
    "Node_Alice.update_blockchain(block2)"
   ]
  },
  {
   "cell_type": "code",
   "execution_count": 50,
   "metadata": {},
   "outputs": [
    {
     "name": "stdout",
     "output_type": "stream",
     "text": [
      "transaction 0 : 0\n",
      "transaction 1 : S2M\n",
      "transaction 2 : M1J\n"
     ]
    }
   ],
   "source": [
    "# examine history\n",
    "for blocks in Node_Alice.blockchain_copy.blockchain:\n",
    "    print blocks.fetch_transaction()"
   ]
  },
  {
   "cell_type": "code",
   "execution_count": 51,
   "metadata": {},
   "outputs": [
    {
     "name": "stdout",
     "output_type": "stream",
     "text": [
      "hash signatures match?"
     ]
    },
    {
     "data": {
      "text/plain": [
       "True"
      ]
     },
     "execution_count": 51,
     "metadata": {},
     "output_type": "execute_result"
    },
    {
     "name": "stdout",
     "output_type": "stream",
     "text": [
      "\n"
     ]
    }
   ],
   "source": [
    "# see if record 2 is valid\n",
    "print \"hash signatures match?\", \n",
    "Node_Alice.blockchain_copy.blockchain[1].block_hash == Miner.calculate_hash_block(Node_Alice.blockchain_copy.blockchain[1])"
   ]
  },
  {
   "cell_type": "markdown",
   "metadata": {
    "collapsed": true
   },
   "source": [
    "### what if record 1 was altered?"
   ]
  },
  {
   "cell_type": "code",
   "execution_count": 52,
   "metadata": {},
   "outputs": [
    {
     "name": "stdout",
     "output_type": "stream",
     "text": [
      "transaction 0 : 0\n",
      "transaction 1 : S2M\n",
      "transaction 2 : M1J\n"
     ]
    }
   ],
   "source": [
    "# examine history\n",
    "for blocks in Node_Alice.blockchain_copy.blockchain:\n",
    "    print blocks.fetch_transaction()"
   ]
  },
  {
   "cell_type": "code",
   "execution_count": 53,
   "metadata": {
    "collapsed": true
   },
   "outputs": [],
   "source": [
    "Node_Alice.blockchain_copy.blockchain[1].data = \"cheater\""
   ]
  },
  {
   "cell_type": "code",
   "execution_count": 54,
   "metadata": {},
   "outputs": [
    {
     "name": "stdout",
     "output_type": "stream",
     "text": [
      "transaction 0 : 0\n",
      "transaction 1 : cheater\n",
      "transaction 2 : M1J\n"
     ]
    }
   ],
   "source": [
    "# examine history\n",
    "for blocks in Node_Alice.blockchain_copy.blockchain:\n",
    "    print blocks.fetch_transaction()"
   ]
  },
  {
   "cell_type": "code",
   "execution_count": 55,
   "metadata": {},
   "outputs": [
    {
     "name": "stdout",
     "output_type": "stream",
     "text": [
      "hash signatures match?"
     ]
    },
    {
     "data": {
      "text/plain": [
       "False"
      ]
     },
     "execution_count": 55,
     "metadata": {},
     "output_type": "execute_result"
    },
    {
     "name": "stdout",
     "output_type": "stream",
     "text": [
      "\n"
     ]
    }
   ],
   "source": [
    "# see if record 2 is valid\n",
    "print \"hash signatures match?\", \n",
    "Node_Alice.blockchain_copy.blockchain[1].block_hash == Miner.calculate_hash_block(Node_Alice.blockchain_copy.blockchain[1])"
   ]
  }
 ],
 "metadata": {
  "kernelspec": {
   "display_name": "Python 2",
   "language": "python",
   "name": "python2"
  },
  "language_info": {
   "codemirror_mode": {
    "name": "ipython",
    "version": 2
   },
   "file_extension": ".py",
   "mimetype": "text/x-python",
   "name": "python",
   "nbconvert_exporter": "python",
   "pygments_lexer": "ipython2",
   "version": "2.7.13"
  }
 },
 "nbformat": 4,
 "nbformat_minor": 1
}
