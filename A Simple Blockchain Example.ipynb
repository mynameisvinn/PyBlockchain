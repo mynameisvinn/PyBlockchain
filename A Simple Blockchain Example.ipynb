{
 "cells": [
  {
   "cell_type": "markdown",
   "metadata": {},
   "source": [
    "## step 0: initialize blockchain with genesis block\n",
    "a genesis block is the only Block that is added to the chain without proof of work."
   ]
  },
  {
   "cell_type": "code",
   "execution_count": null,
   "metadata": {},
   "outputs": [],
   "source": [
    "from PyBlockchain import Miner, Node, Block, Blockchain, util"
   ]
  },
  {
   "cell_type": "code",
   "execution_count": null,
   "metadata": {},
   "outputs": [],
   "source": [
    "# create genesis block with four entries\n",
    "genesis_block = Block(['tx0', 'tx1', 'tx2', 'tx3'])\n",
    "util.show(genesis_block)"
   ]
  },
  {
   "cell_type": "code",
   "execution_count": null,
   "metadata": {},
   "outputs": [],
   "source": [
    "my_blockchain = Blockchain(genesis_block)  # add genesis block to blockchain"
   ]
  },
  {
   "cell_type": "markdown",
   "metadata": {},
   "source": [
    "## step 1: create a new block\n",
    "nodes create a new Block for batches of entries. \n",
    "\n",
    "it's not enough to create a new Block. a Block needs to demonstrate proof of work - that is, a Block nonce must satisfy certain conditions - before it can be added to the blockchain."
   ]
  },
  {
   "cell_type": "code",
   "execution_count": null,
   "metadata": {},
   "outputs": [],
   "source": [
    "# create two nodes to record entries on blocks\n",
    "Node_Alice = Node(my_blockchain)\n",
    "Node_Bob = Node(my_blockchain)"
   ]
  },
  {
   "cell_type": "code",
   "execution_count": null,
   "metadata": {},
   "outputs": [],
   "source": [
    "# alice node creates a new Block, which cannot be added until an acceptable nonce is found\n",
    "block1 = Node_Alice.generate_new_block(['S2M', '23', '13', '13'])\n",
    "util.show(block1)"
   ]
  },
  {
   "cell_type": "markdown",
   "metadata": {},
   "source": [
    "## step 2: add new Block to the chain\n",
    "to add a new Block to the blockchain, it needs an acceptable Block hash. \n",
    "\n",
    "a Block's hash is the hash of (1) a nonce $N$, where $N \\in \\mathbb{R}$; (2) previous Block's hash (already verified); and (3) current Block's root hash, or the merkle root of entries in the current Block.\n",
    "\n",
    "for example, a condition might be: \"sha256(nonce + previous Block's hash + current Block's root hash) must start with four zeros\". since the previous Block's hash and the current Block's root hash are constants, the only way to satisfy this condition is to toggle the *nonce*. \n",
    "\n",
    "finally, by including the previous Block's hash, the current Block's hash effectively seals itself with its predecessor."
   ]
  },
  {
   "cell_type": "code",
   "execution_count": null,
   "metadata": {},
   "outputs": [],
   "source": [
    "# a Block's hash cannot be added to the blockchain until it has an acceptable nonce\n",
    "Node_Alice.update_blockchain(block1)"
   ]
  },
  {
   "cell_type": "markdown",
   "metadata": {},
   "source": [
    "## step 3: miners demonstrate proof of work\n",
    "through brute force, miners identify an acceptable nonce (there might be more than one) that results in an acceptable block hash (one that satsifies a specific condition)."
   ]
  },
  {
   "cell_type": "code",
   "execution_count": null,
   "metadata": {},
   "outputs": [],
   "source": [
    "miner_sfo = Miner()  # miners are nodes that search for an acceptable hash by guessing nonces"
   ]
  },
  {
   "cell_type": "code",
   "execution_count": null,
   "metadata": {},
   "outputs": [],
   "source": [
    "good_hash = miner_sfo.calculate_hash_block(block1)\n",
    "print (\"valid hash:\", good_hash)"
   ]
  },
  {
   "cell_type": "code",
   "execution_count": null,
   "metadata": {},
   "outputs": [],
   "source": [
    "# miner updates Block with an acceptable nonce\n",
    "miner_sfo.update_block_hash(block1, good_hash)\n",
    "util.show(block1)"
   ]
  },
  {
   "cell_type": "code",
   "execution_count": null,
   "metadata": {},
   "outputs": [],
   "source": [
    "# verified new Block can be added by the node\n",
    "Node_Alice.update_blockchain(block1)"
   ]
  },
  {
   "cell_type": "code",
   "execution_count": null,
   "metadata": {},
   "outputs": [],
   "source": [
    "util.show(block1)"
   ]
  },
  {
   "cell_type": "code",
   "execution_count": null,
   "metadata": {},
   "outputs": [],
   "source": [
    "# lets show one more block\n",
    "block2 = Node_Alice.generate_new_block(['M1J', 'T6H', 'S2X', 'G4B'])\n",
    "util.show(block2)"
   ]
  },
  {
   "cell_type": "code",
   "execution_count": null,
   "metadata": {},
   "outputs": [],
   "source": [
    "Node_Alice.check_block(block2)  # again, new Block cannot be added until Block's hash is acceptable "
   ]
  },
  {
   "cell_type": "code",
   "execution_count": null,
   "metadata": {},
   "outputs": [],
   "source": [
    "good_hash = miner_sfo.calculate_hash_block(block2)\n",
    "print (\"valid hash:\", good_hash)"
   ]
  },
  {
   "cell_type": "code",
   "execution_count": null,
   "metadata": {},
   "outputs": [],
   "source": [
    "miner_sfo.update_block_hash(block2, good_hash)"
   ]
  },
  {
   "cell_type": "code",
   "execution_count": null,
   "metadata": {},
   "outputs": [],
   "source": [
    "Node_Alice.check_block(block2)  # verify new block can be added to blockchain"
   ]
  },
  {
   "cell_type": "code",
   "execution_count": null,
   "metadata": {},
   "outputs": [],
   "source": [
    "util.show(block2)"
   ]
  },
  {
   "cell_type": "code",
   "execution_count": null,
   "metadata": {},
   "outputs": [],
   "source": [
    "# with the new hash, verify new block can be added to blockchain\n",
    "Node_Alice.update_blockchain(block2)"
   ]
  },
  {
   "cell_type": "code",
   "execution_count": null,
   "metadata": {},
   "outputs": [],
   "source": [
    "# examine history\n",
    "for blocks in Node_Alice.blockchain_copy.blockchain:\n",
    "    print (blocks.index, blocks.ls_transactions)"
   ]
  },
  {
   "cell_type": "code",
   "execution_count": null,
   "metadata": {},
   "outputs": [],
   "source": [
    "# see if record 2 is valid\n",
    "print (\"hash signatures match?\", \n",
    "Node_Alice.blockchain_copy.blockchain[1].block_hash == miner_sfo.calculate_hash_block(Node_Alice.blockchain_copy.blockchain[1]))"
   ]
  },
  {
   "cell_type": "markdown",
   "metadata": {
    "collapsed": true
   },
   "source": [
    "### what if record 1 was altered?"
   ]
  },
  {
   "cell_type": "code",
   "execution_count": null,
   "metadata": {},
   "outputs": [],
   "source": [
    "# examine history\n",
    "for blocks in Node_Alice.blockchain_copy.blockchain:\n",
    "    print (blocks.index, blocks.ls_transactions)"
   ]
  },
  {
   "cell_type": "code",
   "execution_count": null,
   "metadata": {},
   "outputs": [],
   "source": [
    "Node_Alice.blockchain_copy.blockchain[1].ls_transactions = ['s32', 'f2c', 'd3c', 'g67']"
   ]
  },
  {
   "cell_type": "code",
   "execution_count": null,
   "metadata": {},
   "outputs": [],
   "source": [
    "# examine history\n",
    "for blocks in Node_Alice.blockchain_copy.blockchain:\n",
    "    print (blocks.index, blocks.ls_transactions)"
   ]
  },
  {
   "cell_type": "code",
   "execution_count": null,
   "metadata": {},
   "outputs": [],
   "source": [
    "# see if record 2 is valid\n",
    "print (\"hash signatures match?\", \n",
    "Node_Alice.blockchain_copy.blockchain[1].block_hash == miner_sfo.calculate_hash_block(Node_Alice.blockchain_copy.blockchain[1]))"
   ]
  },
  {
   "cell_type": "code",
   "execution_count": null,
   "metadata": {},
   "outputs": [],
   "source": []
  },
  {
   "cell_type": "code",
   "execution_count": null,
   "metadata": {},
   "outputs": [],
   "source": []
  }
 ],
 "metadata": {
  "kernelspec": {
   "display_name": "Python 3",
   "language": "python",
   "name": "python3"
  },
  "language_info": {
   "codemirror_mode": {
    "name": "ipython",
    "version": 3
   },
   "file_extension": ".py",
   "mimetype": "text/x-python",
   "name": "python",
   "nbconvert_exporter": "python",
   "pygments_lexer": "ipython3",
   "version": "3.7.3"
  }
 },
 "nbformat": 4,
 "nbformat_minor": 1
}
